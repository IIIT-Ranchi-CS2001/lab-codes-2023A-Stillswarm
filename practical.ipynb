import pandas as pd
#%%
df = pd.read_csv("AQI_Data.csv")

# display the first 5 rows
df.head(5)
#%%
# display the last 6 rows
df.tail(6)
#%%
# summary statistics
df.describe()
#%%
# mean of AQI, PM2.5, PM10
df[['City', 'AQI', 'PM2.5', 'PM10']].groupby('City').mean()
#%%
# All rows where the city is 'Delhi'
df[df['City'] == 'Delhi']
#%%
# First 10 rows with columns City, AQI, PM2.5
df.head(10)[['City', 'AQI', 'PM2.5']]
#%%
# display rows where the AQI is greater that 300 and 
# PM10 is greater than 200
df[(df['AQI'] > 300) & (df['PM10'] > 200)]
